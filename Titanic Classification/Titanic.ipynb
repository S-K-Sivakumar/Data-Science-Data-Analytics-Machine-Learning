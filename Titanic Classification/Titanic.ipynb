{
 "cells": [
  {
   "cell_type": "code",
   "execution_count": 1,
   "metadata": {
    "collapsed": true
   },
   "outputs": [],
   "source": [
    "import pandas as pd\n",
    "import numpy as np\n",
    "import matplotlib.pyplot as plt\n",
    "import seaborn as sns\n",
    "%matplotlib inline"
   ]
  },
  {
   "cell_type": "markdown",
   "metadata": {},
   "source": [
    "# Common Functions"
   ]
  },
  {
   "cell_type": "code",
   "execution_count": 2,
   "metadata": {
    "collapsed": true
   },
   "outputs": [],
   "source": [
    "def remove_outliers(df_in,outlier_cols):\n",
    "    df = df_in.copy()\n",
    "    if type(outlier_cols) == str:\n",
    "        outlier_cols = [outlier_cols]\n",
    "    \n",
    "    desc = df.describe()\n",
    "    for col in outlier_cols:\n",
    "        q1 = desc.loc['25%',col]\n",
    "        q3 = desc.loc['75%',col]\n",
    "        iqr = q3 - q1\n",
    "        low = q1 - (1.5 * iqr)\n",
    "        high = q3 + (1.5 * iqr)\n",
    "        df = df[(df[col] >= low) & (df[col] <= high)]\n",
    "        \n",
    "    return df"
   ]
  },
  {
   "cell_type": "code",
   "execution_count": 3,
   "metadata": {
    "collapsed": true
   },
   "outputs": [],
   "source": [
    "def convert_cat(df, cat_cols,output_col=None):\n",
    "    \"\"\"\n",
    "    This function converts all categorical columns into numerical boolean columns.\n",
    "    \n",
    "    There are 3 parameters: df, cat_cols, and output_var. \n",
    "    \n",
    "    1. df is the dataframe which needs to have categorical variables converted to numerical variables\n",
    "    2. cat_cols needs to be a list that contains the names of all categorical columns that need to be converted.\n",
    "    3. output_var is the name of the output or response variable.  It is set to 'Output' as default.\"\"\"\n",
    "    \n",
    "    df.reset_index(inplace = True, drop = True)\n",
    "    df_out = df.copy()\n",
    "    \n",
    "    for col in cat_cols:\n",
    "        dummy_col = pd.get_dummies(df_out[col],drop_first = True)\n",
    "        df_out.drop(col,axis=1, inplace = True)\n",
    "        df_out = df_out.join(dummy_col)\n",
    "    \n",
    "    if output_col != None:\n",
    "        loc_df_out = list(df_out.columns).index(output_col)\n",
    "        df_out = df_out[list(df_out.columns[:loc_df_out]) + list(df_out.columns[loc_df_out + 1:]) + list(df_out.columns[loc_df_out:loc_df_out + 1])]\n",
    "    return df_out"
   ]
  },
  {
   "cell_type": "code",
   "execution_count": 4,
   "metadata": {
    "collapsed": true
   },
   "outputs": [],
   "source": [
    "def normalize(df,cols_to_ignore = None):\n",
    "    \"\"\"\n",
    "    This function takes in a dataframe as a parameter and returns the same dataframe with all the features normalized between 0 and 1 using rescaling (min-max normalization)\n",
    "    \"\"\"\n",
    "    l_min = []\n",
    "    l_max = []\n",
    "    desc = df.describe()\n",
    "    if cols_to_ignore == None:\n",
    "        for col in df.columns:\n",
    "            l_min.append(desc[col]['min'])\n",
    "            l_max.append(desc[col]['max'])\n",
    "        \n",
    "        t_min = list(zip(df.columns, l_min))\n",
    "        t_max = list(zip(df.columns, l_max))\n",
    " \n",
    "\n",
    "    else:\n",
    "        for col in df.drop(cols_to_ignore,axis = 1).columns:\n",
    "            l_min.append(desc[col]['min'])\n",
    "            l_max.append(desc[col]['max'])\n",
    "\n",
    "        t_min = list(zip(df.drop(cols_to_ignore,axis = 1).columns, l_min))\n",
    "        t_max = list(zip(df.drop(cols_to_ignore,axis = 1).columns, l_max))\n",
    "    \n",
    "   \n",
    "    d_min = {}\n",
    "    for col,val in t_min:\n",
    "        d_min[col]=val\n",
    "    \n",
    "    d_max = {}\n",
    "    for col,val in t_max:\n",
    "        d_max[col]=val\n",
    "    \n",
    "    df_copy = df.copy()\n",
    "    for key in d_min.keys():\n",
    "        df_copy[key] = df_copy[key].apply(lambda x: (x - d_min[key])/ (d_max[key] - d_min[key]))\n",
    "    \n",
    "    return df_copy"
   ]
  },
  {
   "cell_type": "code",
   "execution_count": 5,
   "metadata": {
    "collapsed": true
   },
   "outputs": [],
   "source": [
    "def split_df(df,test_size = 0.3,df_to_return = 'df_train'):\n",
    "    \"\"\"\n",
    "    This function takes in a Pandas DataFrame and returns a \n",
    "    dataframe that is a subset of that Pandas DataFrame.\n",
    "    \n",
    "    There are 3 parameters: df, test_size, and df_to_return\n",
    "    \n",
    "    df needs to be a Pandas DataFrame and is the superset dataframe to be divided.\n",
    "    test_size is the proportion of the dataframe you want to be the testing dataset.\n",
    "    test_size is set to 0.3 by default.\n",
    "    df_to_return needs to specified as either 'df_train' or df_test' \n",
    "    to return the correct subset dataframe. df_to_return is set to 'df_train' by default\n",
    "    \"\"\"\n",
    "    split_num = int(df.count()[0] * (1-test_size) //1)\n",
    "    df_train = df.iloc[:split_num,:]\n",
    "    df_test = df.iloc[split_num:,:]\n",
    "    if df_to_return in ['df_train','train']:\n",
    "        return df_train\n",
    "    elif df_to_return in ['df_test','test']:\n",
    "        return df_test"
   ]
  },
  {
   "cell_type": "code",
   "execution_count": 6,
   "metadata": {
    "collapsed": true
   },
   "outputs": [],
   "source": [
    "def shuffled_split_dfs(df,test_size = 0.3):\n",
    "    \"\"\"\n",
    "    This function takes in a Pandas DataFrame and returns a list of 2\n",
    "    dataframes.  The first dataframe is the train and the second is the test df.\n",
    "    \n",
    "    There are 2 parameters: df and test_size\n",
    "    \n",
    "    df needs to be a Pandas DataFrame and is the superset dataframe to be divided.\n",
    "    test_size is the proportion of the dataframe you want to be the testing dataset.\n",
    "    test_size is set to 0.3 by default.\n",
    "    \"\"\"\n",
    "    df_copy = df.copy()\n",
    "    df_copy = df_copy.sample(frac = 1).reset_index(drop = True)\n",
    "    split_num = int(df_copy.count()[0] * (1-test_size) //1)\n",
    "    df_train = df_copy.iloc[:split_num,:]\n",
    "    df_test = df_copy.iloc[split_num:,:]\n",
    "    return ([df_train,df_test])"
   ]
  },
  {
   "cell_type": "code",
   "execution_count": 54,
   "metadata": {
    "collapsed": true
   },
   "outputs": [],
   "source": [
    "def check_accuracy(df = None,pred_df = None, test_df = None, algo = 'lin',target_class = None):\n",
    "    \n",
    "    \"\"\"\n",
    "    This function takes in a pandas DataFrame and returns the accuracy of the model\n",
    "    \n",
    "    There are 5 parameters: df and algo\n",
    "    \n",
    "    1. df needs to be a Pandas DataFrame and algo is the algorithm used.\n",
    "    2. pred_df is the prediction dataframe used for the knn algorithm\n",
    "    3. test_df is the test dataframe used for the knn algorithm\n",
    "    4. algo is set to 'lin' by default but can also be specified as 'log' or 'knn'\n",
    "    5. target_class is the output_variable\n",
    "    \"\"\"\n",
    "    \n",
    "    if algo == 'lin':\n",
    "        df_out = df.copy()\n",
    "        df_out['error'] = df.iloc[:,-2] - df.iloc[:,-1]\n",
    "        ME = df_out['error'].mean()\n",
    "        MAE = np.abs(df_out['error']).mean()\n",
    "        RMSE = (sum(df_out['error']**2)/df_out.count()[0]+1) ** 0.5\n",
    "        return {'ME':ME,'MAE':MAE,'RMSE':RMSE}\n",
    "    \n",
    "    elif algo == 'log':\n",
    "        import numpy as np\n",
    "        from sklearn.metrics import confusion_matrix,classification_report\n",
    "        if target_class == None:\n",
    "            target_class = df.columns[-4]\n",
    "        print(confusion_matrix(df[target_class].values,df['Crisp'].values))\n",
    "        print(classification_report(df[target_class].values,df['Crisp'].values))\n",
    "    \n",
    "        return sum(df['Correct?']/df.count()[0])\n",
    "    \n",
    "    elif algo == 'knn':\n",
    "        pred = pred_df[target_class]\n",
    "        test = test_df[target_class]\n",
    "        return sum(pred == test) / len(pred)"
   ]
  },
  {
   "cell_type": "markdown",
   "metadata": {
    "collapsed": true
   },
   "source": [
    "# Linear Regression and Logistic Regression"
   ]
  },
  {
   "cell_type": "code",
   "execution_count": 8,
   "metadata": {
    "collapsed": true
   },
   "outputs": [],
   "source": [
    "def stoch_grad_desc(dataset,output_col,cols_to_ignore = None,alpha = 0.3,epoch = 10,algo = 'lin',initial_coeffs = 1):\n",
    "    \"\"\"\n",
    "    This function returns a list of the coefficients for the specified algorithm.  \n",
    "    Currently, this function only performs Linear and Logistic Regression.\n",
    "    \n",
    "    The 4 parameters are: dataset, alpha, epoch, and algo\n",
    "    \n",
    "    1. dataset needs to be a pandas DataFrame\n",
    "    2. alpha is the alpha value used in stochiastic gradient descent.  It is set at 0.3 by default.\n",
    "    3. epoch is the number of iterations through each row in the dataset algorithm will perform.  epoch is set to 10 by default.\n",
    "    4. algo is the specific algorithm to be used.  algo is 'lin' by default for Linear Regression but can also be specified as 'log' for Logistic Regression\n",
    "    \"\"\"\n",
    "\n",
    "    loc_output_col = list(dataset.columns).index(output_col)\n",
    "    dataset = dataset[list(dataset.columns[:loc_output_col]) + list(dataset.columns[loc_output_col+1:]) + list(dataset.columns[loc_output_col:loc_output_col + 1])]\n",
    "    \n",
    "    from math import exp\n",
    "    count_rows = dataset.count()[1]\n",
    "    \n",
    "    if cols_to_ignore != None:\n",
    "        dataset_1 = pd.DataFrame(pd.Series(np.ones(dataset.count()[0])),columns = ['X0']).join(dataset.drop(cols_to_ignore,axis = 1))\n",
    "    else:\n",
    "        dataset_1 = pd.DataFrame(pd.Series(np.ones(dataset.count()[0])),columns = ['X0']).join(dataset)\n",
    "        \n",
    "    coeffs = list(np.ones(len(dataset_1.columns[0:-1])))\n",
    "    coeffs = [i * initial_coeffs for i in coeffs]\n",
    "    \n",
    "    df_columns = list(dataset_1.columns)\n",
    "    df_input_cols = df_columns\n",
    "    df_input_cols.remove(output_col)\n",
    "    \n",
    "    for ep in range(epoch):\n",
    "        for row in range(count_rows):\n",
    "            y = dataset_1.loc[row,output_col]\n",
    "            output_terms = []\n",
    "            #return y\n",
    "            for col in df_input_cols:\n",
    "                output_terms.append((coeffs[dataset_1.columns.get_loc(col)],dataset_1.loc[row,col]))\n",
    "            \n",
    "            output_list = [(x*y) for (x,y) in output_terms]\n",
    "            \n",
    "            output = sum(output_list)\n",
    "            \n",
    "            if algo == 'lin':\n",
    "                pred = output\n",
    "                for i in range(len(coeffs)):\n",
    "                    coeffs[int(i)] += alpha * (dataset_1.loc[row,output_col] - pred) * dataset_1.iloc[row,int(i)]\n",
    "                \n",
    "            elif algo == 'log':\n",
    "                pred = 1 / (1 + exp(-output))\n",
    "                \n",
    "                for i in range(len(coeffs)):\n",
    "                    coeffs[i] = coeffs[i] + alpha * (y - pred) * pred * (1 - pred) * dataset_1.iloc[row,i]\n",
    "                    \n",
    "    \n",
    "    \n",
    "    return coeffs"
   ]
  },
  {
   "cell_type": "code",
   "execution_count": 9,
   "metadata": {
    "collapsed": true
   },
   "outputs": [],
   "source": [
    "def make_predictions(dataset, coeff_list, output_col,cols_to_ignore = None,algo = 'lin'):\n",
    "    \"\"\"\n",
    "    This function takes in a pandas DataFrame and a list that contains \n",
    "    coefficients for the specified algorith used in the stoch_grad_desc function\n",
    "    and returns the same dataset (with the addition of the first column being 1s to\n",
    "    represent X0 in the regression formula) plus a new column at the end, 'Prediction'.\n",
    "    \n",
    "    There are 3 parameters: dataset, coeff_list, and algo\n",
    "    \n",
    "    1. dataset is the dataframe to used to make predictions dataset needs to be a Pandas DataFrame\n",
    "    2. coeff_list should be the list that was the result of running the stoch_grad_desc function\n",
    "    3. algo is the specific algorithm to be used.  algo is set to 'lin' by default but can be set to 'log'\"\"\"\n",
    "    \n",
    "    loc_output_col = list(dataset.columns).index(output_col)\n",
    "    dataset = dataset[list(dataset.columns[:loc_output_col]) + list(dataset.columns[loc_output_col+1:]) + list(dataset.columns[loc_output_col:loc_output_col + 1])]\n",
    "    dataset_index = dataset.index\n",
    "    \n",
    "    if type(cols_to_ignore) == list and cols_to_ignore != None:\n",
    "        df_ignored_cols = dataset.loc[:,cols_to_ignore]\n",
    "    elif type(cols_to_ignore) != list and cols_to_ignore != None:\n",
    "        df_ignored_cols = dataset.loc[:,[cols_to_ignore]]\n",
    "    if cols_to_ignore != None:\n",
    "        df_ignored_cols.reset_index(inplace = True)\n",
    "    \n",
    "    from math import exp\n",
    "    \n",
    "    dataset.reset_index(inplace = True, drop = True)\n",
    "    \n",
    "    if cols_to_ignore != None:\n",
    "        dataset_out = pd.DataFrame(pd.Series(np.ones(dataset.count()[0]))).join(dataset.drop(cols_to_ignore,axis = 1))\n",
    "    else:\n",
    "        dataset_out = pd.DataFrame(pd.Series(np.ones(dataset.count()[0]))).join(dataset)\n",
    "\n",
    "    \n",
    "    dataset_out.rename(mapper = {0:'X0'},axis = 1, inplace = True)\n",
    "    \n",
    "    coeffs = coeff_list\n",
    "    pred = []\n",
    "    \n",
    "    for row in range(dataset_out.count()[0]):\n",
    "        output_terms = []\n",
    "        for col in dataset_out.columns[0:-1]:\n",
    "            output_terms.append((coeffs[dataset_out.columns.get_loc(col)],dataset_out.loc[row,col]))\n",
    "        output_list = [x*y for (x,y) in output_terms]\n",
    "        \n",
    "        output = sum(output_list)\n",
    "        if algo == 'lin':\n",
    "            pred.append(output)\n",
    "        \n",
    "        elif algo == 'log':\n",
    "            pred.append(1/(1 + exp(-output)))\n",
    "    dataset_out = dataset_out.join(pd.DataFrame(pred))\n",
    "    dataset_out.rename(mapper = {0: 'Prediction'},axis = 1, inplace = True)\n",
    "    \n",
    "    if algo == 'log':\n",
    "        dataset_out['Crisp'] = dataset_out['Prediction'].apply(lambda predi: 1 if predi >= 0.5 else 0)\n",
    "        dataset_out['Correct?'] = dataset_out.iloc[:,-3] == dataset_out['Crisp']\n",
    "    \n",
    "    if cols_to_ignore != None:\n",
    "        dataset_out = pd.concat([df_ignored_cols,dataset_out],axis = 1)\n",
    "    dataset_out.drop('X0',axis = 1,inplace = True)\n",
    "    \n",
    "    dataset_out.set_index(dataset_index,inplace = True)\n",
    "    return dataset_out"
   ]
  },
  {
   "cell_type": "markdown",
   "metadata": {},
   "source": [
    "# Logistic Regression (Titanic Dataset)"
   ]
  },
  {
   "cell_type": "code",
   "execution_count": 138,
   "metadata": {
    "collapsed": true
   },
   "outputs": [],
   "source": [
    "titanic_test = pd.read_csv(r'C:\\Users\\ssiva\\Downloads\\Python-Data-Science-and-Machine-Learning-Bootcamp\\Python-Data-Science-and-Machine-Learning-Bootcamp\\Machine Learning Sections\\Logistic-Regression\\titanic_test.csv')"
   ]
  },
  {
   "cell_type": "code",
   "execution_count": 139,
   "metadata": {
    "collapsed": true
   },
   "outputs": [],
   "source": [
    "titanic_train = pd.read_csv(r'C:\\Users\\ssiva\\Downloads\\Python-Data-Science-and-Machine-Learning-Bootcamp\\Python-Data-Science-and-Machine-Learning-Bootcamp\\Machine Learning Sections\\Logistic-Regression\\titanic_train.csv')"
   ]
  },
  {
   "cell_type": "code",
   "execution_count": 140,
   "metadata": {
    "scrolled": true
   },
   "outputs": [
    {
     "data": {
      "text/html": [
       "<div>\n",
       "<style scoped>\n",
       "    .dataframe tbody tr th:only-of-type {\n",
       "        vertical-align: middle;\n",
       "    }\n",
       "\n",
       "    .dataframe tbody tr th {\n",
       "        vertical-align: top;\n",
       "    }\n",
       "\n",
       "    .dataframe thead th {\n",
       "        text-align: right;\n",
       "    }\n",
       "</style>\n",
       "<table border=\"1\" class=\"dataframe\">\n",
       "  <thead>\n",
       "    <tr style=\"text-align: right;\">\n",
       "      <th></th>\n",
       "      <th>PassengerId</th>\n",
       "      <th>Survived</th>\n",
       "      <th>Pclass</th>\n",
       "      <th>Name</th>\n",
       "      <th>Sex</th>\n",
       "      <th>Age</th>\n",
       "      <th>SibSp</th>\n",
       "      <th>Parch</th>\n",
       "      <th>Ticket</th>\n",
       "      <th>Fare</th>\n",
       "      <th>Cabin</th>\n",
       "      <th>Embarked</th>\n",
       "    </tr>\n",
       "  </thead>\n",
       "  <tbody>\n",
       "    <tr>\n",
       "      <th>0</th>\n",
       "      <td>1</td>\n",
       "      <td>0</td>\n",
       "      <td>3</td>\n",
       "      <td>Braund, Mr. Owen Harris</td>\n",
       "      <td>male</td>\n",
       "      <td>22.0</td>\n",
       "      <td>1</td>\n",
       "      <td>0</td>\n",
       "      <td>A/5 21171</td>\n",
       "      <td>7.2500</td>\n",
       "      <td>NaN</td>\n",
       "      <td>S</td>\n",
       "    </tr>\n",
       "    <tr>\n",
       "      <th>1</th>\n",
       "      <td>2</td>\n",
       "      <td>1</td>\n",
       "      <td>1</td>\n",
       "      <td>Cumings, Mrs. John Bradley (Florence Briggs Th...</td>\n",
       "      <td>female</td>\n",
       "      <td>38.0</td>\n",
       "      <td>1</td>\n",
       "      <td>0</td>\n",
       "      <td>PC 17599</td>\n",
       "      <td>71.2833</td>\n",
       "      <td>C85</td>\n",
       "      <td>C</td>\n",
       "    </tr>\n",
       "    <tr>\n",
       "      <th>2</th>\n",
       "      <td>3</td>\n",
       "      <td>1</td>\n",
       "      <td>3</td>\n",
       "      <td>Heikkinen, Miss. Laina</td>\n",
       "      <td>female</td>\n",
       "      <td>26.0</td>\n",
       "      <td>0</td>\n",
       "      <td>0</td>\n",
       "      <td>STON/O2. 3101282</td>\n",
       "      <td>7.9250</td>\n",
       "      <td>NaN</td>\n",
       "      <td>S</td>\n",
       "    </tr>\n",
       "    <tr>\n",
       "      <th>3</th>\n",
       "      <td>4</td>\n",
       "      <td>1</td>\n",
       "      <td>1</td>\n",
       "      <td>Futrelle, Mrs. Jacques Heath (Lily May Peel)</td>\n",
       "      <td>female</td>\n",
       "      <td>35.0</td>\n",
       "      <td>1</td>\n",
       "      <td>0</td>\n",
       "      <td>113803</td>\n",
       "      <td>53.1000</td>\n",
       "      <td>C123</td>\n",
       "      <td>S</td>\n",
       "    </tr>\n",
       "    <tr>\n",
       "      <th>4</th>\n",
       "      <td>5</td>\n",
       "      <td>0</td>\n",
       "      <td>3</td>\n",
       "      <td>Allen, Mr. William Henry</td>\n",
       "      <td>male</td>\n",
       "      <td>35.0</td>\n",
       "      <td>0</td>\n",
       "      <td>0</td>\n",
       "      <td>373450</td>\n",
       "      <td>8.0500</td>\n",
       "      <td>NaN</td>\n",
       "      <td>S</td>\n",
       "    </tr>\n",
       "  </tbody>\n",
       "</table>\n",
       "</div>"
      ],
      "text/plain": [
       "   PassengerId  Survived  Pclass  \\\n",
       "0            1         0       3   \n",
       "1            2         1       1   \n",
       "2            3         1       3   \n",
       "3            4         1       1   \n",
       "4            5         0       3   \n",
       "\n",
       "                                                Name     Sex   Age  SibSp  \\\n",
       "0                            Braund, Mr. Owen Harris    male  22.0      1   \n",
       "1  Cumings, Mrs. John Bradley (Florence Briggs Th...  female  38.0      1   \n",
       "2                             Heikkinen, Miss. Laina  female  26.0      0   \n",
       "3       Futrelle, Mrs. Jacques Heath (Lily May Peel)  female  35.0      1   \n",
       "4                           Allen, Mr. William Henry    male  35.0      0   \n",
       "\n",
       "   Parch            Ticket     Fare Cabin Embarked  \n",
       "0      0         A/5 21171   7.2500   NaN        S  \n",
       "1      0          PC 17599  71.2833   C85        C  \n",
       "2      0  STON/O2. 3101282   7.9250   NaN        S  \n",
       "3      0            113803  53.1000  C123        S  \n",
       "4      0            373450   8.0500   NaN        S  "
      ]
     },
     "execution_count": 140,
     "metadata": {},
     "output_type": "execute_result"
    }
   ],
   "source": [
    "titanic_train.head()"
   ]
  },
  {
   "cell_type": "code",
   "execution_count": 141,
   "metadata": {
    "collapsed": true
   },
   "outputs": [],
   "source": [
    "titanic_train.drop(['PassengerId','Name','Ticket'],axis = 1,inplace = True)"
   ]
  },
  {
   "cell_type": "code",
   "execution_count": 142,
   "metadata": {
    "scrolled": true
   },
   "outputs": [
    {
     "data": {
      "text/plain": [
       "Survived      0\n",
       "Pclass        0\n",
       "Sex           0\n",
       "Age         177\n",
       "SibSp         0\n",
       "Parch         0\n",
       "Fare          0\n",
       "Cabin       687\n",
       "Embarked      2\n",
       "dtype: int64"
      ]
     },
     "execution_count": 142,
     "metadata": {},
     "output_type": "execute_result"
    }
   ],
   "source": [
    "titanic_train.isna().sum()"
   ]
  },
  {
   "cell_type": "code",
   "execution_count": 143,
   "metadata": {
    "collapsed": true
   },
   "outputs": [],
   "source": [
    "titanic_train.drop(['Cabin'],axis = 1,inplace = True)\n",
    "titanic_test.drop(['Cabin'],axis = 1,inplace = True)"
   ]
  },
  {
   "cell_type": "code",
   "execution_count": 145,
   "metadata": {
    "scrolled": true
   },
   "outputs": [
    {
     "data": {
      "text/plain": [
       "Survived   -0.077221\n",
       "Pclass     -0.369226\n",
       "Age         1.000000\n",
       "SibSp      -0.308247\n",
       "Parch      -0.189119\n",
       "Fare        0.096067\n",
       "Name: Age, dtype: float64"
      ]
     },
     "execution_count": 145,
     "metadata": {},
     "output_type": "execute_result"
    }
   ],
   "source": [
    "titanic_train.corr()['Age']"
   ]
  },
  {
   "cell_type": "code",
   "execution_count": 146,
   "metadata": {
    "scrolled": true
   },
   "outputs": [
    {
     "data": {
      "text/plain": [
       "Pclass\n",
       "1    38.233441\n",
       "2    29.877630\n",
       "3    25.140620\n",
       "Name: Age, dtype: float64"
      ]
     },
     "execution_count": 146,
     "metadata": {},
     "output_type": "execute_result"
    }
   ],
   "source": [
    "titanic_train.groupby('Pclass').mean()['Age']"
   ]
  },
  {
   "cell_type": "code",
   "execution_count": 147,
   "metadata": {},
   "outputs": [
    {
     "data": {
      "text/plain": [
       "{1: 38.233440860215055, 2: 29.87763005780347, 3: 25.14061971830986}"
      ]
     },
     "execution_count": 147,
     "metadata": {},
     "output_type": "execute_result"
    }
   ],
   "source": [
    "d_Pclass_to_Age = {}\n",
    "for i in titanic_train.groupby('Pclass').mean()['Age'].index:\n",
    "    d_Pclass_to_Age[i] = titanic_train.groupby('Pclass').mean()['Age'].loc[i]\n",
    "d_Pclass_to_Age"
   ]
  },
  {
   "cell_type": "code",
   "execution_count": 148,
   "metadata": {
    "collapsed": true
   },
   "outputs": [],
   "source": [
    "import math"
   ]
  },
  {
   "cell_type": "code",
   "execution_count": 151,
   "metadata": {},
   "outputs": [],
   "source": [
    "titanic_train['Age'] = titanic_train[[\"Pclass\",\"Age\"]].apply(lambda cols: d_Pclass_to_Age[cols[0]] if math.isnan(cols[1]) else cols[1],axis = 1)\n",
    "titanic_test['Age'] = titanic_test[[\"Pclass\",\"Age\"]].apply(lambda cols: d_Pclass_to_Age[cols[0]] if math.isnan(cols[1]) else cols[1],axis = 1)"
   ]
  },
  {
   "cell_type": "code",
   "execution_count": 152,
   "metadata": {},
   "outputs": [
    {
     "data": {
      "text/plain": [
       "Survived    0\n",
       "Pclass      0\n",
       "Sex         0\n",
       "Age         0\n",
       "SibSp       0\n",
       "Parch       0\n",
       "Fare        0\n",
       "Embarked    2\n",
       "dtype: int64"
      ]
     },
     "execution_count": 152,
     "metadata": {},
     "output_type": "execute_result"
    }
   ],
   "source": [
    "titanic_train.isna().sum()"
   ]
  },
  {
   "cell_type": "code",
   "execution_count": 153,
   "metadata": {
    "collapsed": true
   },
   "outputs": [],
   "source": [
    "titanic_train.dropna(inplace = True)\n",
    "titanic_test.dropna(inplace = True)"
   ]
  },
  {
   "cell_type": "code",
   "execution_count": 154,
   "metadata": {},
   "outputs": [
    {
     "data": {
      "text/plain": [
       "889"
      ]
     },
     "execution_count": 154,
     "metadata": {},
     "output_type": "execute_result"
    }
   ],
   "source": [
    "titanic_train.count()[0]"
   ]
  },
  {
   "cell_type": "code",
   "execution_count": 156,
   "metadata": {},
   "outputs": [
    {
     "data": {
      "text/html": [
       "<div>\n",
       "<style scoped>\n",
       "    .dataframe tbody tr th:only-of-type {\n",
       "        vertical-align: middle;\n",
       "    }\n",
       "\n",
       "    .dataframe tbody tr th {\n",
       "        vertical-align: top;\n",
       "    }\n",
       "\n",
       "    .dataframe thead th {\n",
       "        text-align: right;\n",
       "    }\n",
       "</style>\n",
       "<table border=\"1\" class=\"dataframe\">\n",
       "  <thead>\n",
       "    <tr style=\"text-align: right;\">\n",
       "      <th></th>\n",
       "      <th>Survived</th>\n",
       "      <th>Pclass</th>\n",
       "      <th>Sex</th>\n",
       "      <th>Age</th>\n",
       "      <th>SibSp</th>\n",
       "      <th>Parch</th>\n",
       "      <th>Fare</th>\n",
       "      <th>Embarked</th>\n",
       "    </tr>\n",
       "  </thead>\n",
       "  <tbody>\n",
       "    <tr>\n",
       "      <th>0</th>\n",
       "      <td>0</td>\n",
       "      <td>3</td>\n",
       "      <td>male</td>\n",
       "      <td>22.0</td>\n",
       "      <td>1</td>\n",
       "      <td>0</td>\n",
       "      <td>7.2500</td>\n",
       "      <td>S</td>\n",
       "    </tr>\n",
       "    <tr>\n",
       "      <th>1</th>\n",
       "      <td>1</td>\n",
       "      <td>1</td>\n",
       "      <td>female</td>\n",
       "      <td>38.0</td>\n",
       "      <td>1</td>\n",
       "      <td>0</td>\n",
       "      <td>71.2833</td>\n",
       "      <td>C</td>\n",
       "    </tr>\n",
       "  </tbody>\n",
       "</table>\n",
       "</div>"
      ],
      "text/plain": [
       "   Survived  Pclass     Sex   Age  SibSp  Parch     Fare Embarked\n",
       "0         0       3    male  22.0      1      0   7.2500        S\n",
       "1         1       1  female  38.0      1      0  71.2833        C"
      ]
     },
     "execution_count": 156,
     "metadata": {},
     "output_type": "execute_result"
    }
   ],
   "source": [
    "titanic_train.head(2)"
   ]
  },
  {
   "cell_type": "code",
   "execution_count": 157,
   "metadata": {},
   "outputs": [
    {
     "data": {
      "text/html": [
       "<div>\n",
       "<style scoped>\n",
       "    .dataframe tbody tr th:only-of-type {\n",
       "        vertical-align: middle;\n",
       "    }\n",
       "\n",
       "    .dataframe tbody tr th {\n",
       "        vertical-align: top;\n",
       "    }\n",
       "\n",
       "    .dataframe thead th {\n",
       "        text-align: right;\n",
       "    }\n",
       "</style>\n",
       "<table border=\"1\" class=\"dataframe\">\n",
       "  <thead>\n",
       "    <tr style=\"text-align: right;\">\n",
       "      <th></th>\n",
       "      <th>Pclass</th>\n",
       "      <th>Age</th>\n",
       "      <th>SibSp</th>\n",
       "      <th>Parch</th>\n",
       "      <th>Fare</th>\n",
       "      <th>male</th>\n",
       "      <th>Q</th>\n",
       "      <th>S</th>\n",
       "      <th>Survived</th>\n",
       "    </tr>\n",
       "  </thead>\n",
       "  <tbody>\n",
       "    <tr>\n",
       "      <th>0</th>\n",
       "      <td>3</td>\n",
       "      <td>22.0</td>\n",
       "      <td>1</td>\n",
       "      <td>0</td>\n",
       "      <td>7.2500</td>\n",
       "      <td>1</td>\n",
       "      <td>0</td>\n",
       "      <td>1</td>\n",
       "      <td>0</td>\n",
       "    </tr>\n",
       "    <tr>\n",
       "      <th>1</th>\n",
       "      <td>1</td>\n",
       "      <td>38.0</td>\n",
       "      <td>1</td>\n",
       "      <td>0</td>\n",
       "      <td>71.2833</td>\n",
       "      <td>0</td>\n",
       "      <td>0</td>\n",
       "      <td>0</td>\n",
       "      <td>1</td>\n",
       "    </tr>\n",
       "    <tr>\n",
       "      <th>2</th>\n",
       "      <td>3</td>\n",
       "      <td>26.0</td>\n",
       "      <td>0</td>\n",
       "      <td>0</td>\n",
       "      <td>7.9250</td>\n",
       "      <td>0</td>\n",
       "      <td>0</td>\n",
       "      <td>1</td>\n",
       "      <td>1</td>\n",
       "    </tr>\n",
       "    <tr>\n",
       "      <th>3</th>\n",
       "      <td>1</td>\n",
       "      <td>35.0</td>\n",
       "      <td>1</td>\n",
       "      <td>0</td>\n",
       "      <td>53.1000</td>\n",
       "      <td>0</td>\n",
       "      <td>0</td>\n",
       "      <td>1</td>\n",
       "      <td>1</td>\n",
       "    </tr>\n",
       "    <tr>\n",
       "      <th>4</th>\n",
       "      <td>3</td>\n",
       "      <td>35.0</td>\n",
       "      <td>0</td>\n",
       "      <td>0</td>\n",
       "      <td>8.0500</td>\n",
       "      <td>1</td>\n",
       "      <td>0</td>\n",
       "      <td>1</td>\n",
       "      <td>0</td>\n",
       "    </tr>\n",
       "  </tbody>\n",
       "</table>\n",
       "</div>"
      ],
      "text/plain": [
       "   Pclass   Age  SibSp  Parch     Fare  male  Q  S  Survived\n",
       "0       3  22.0      1      0   7.2500     1  0  1         0\n",
       "1       1  38.0      1      0  71.2833     0  0  0         1\n",
       "2       3  26.0      0      0   7.9250     0  0  1         1\n",
       "3       1  35.0      1      0  53.1000     0  0  1         1\n",
       "4       3  35.0      0      0   8.0500     1  0  1         0"
      ]
     },
     "execution_count": 157,
     "metadata": {},
     "output_type": "execute_result"
    }
   ],
   "source": [
    "tit_train_cnvrtd = convert_cat(titanic_train,['Sex','Embarked'],output_col = 'Survived')\n",
    "tit_train_cnvrtd.head()"
   ]
  },
  {
   "cell_type": "code",
   "execution_count": 158,
   "metadata": {},
   "outputs": [
    {
     "data": {
      "text/html": [
       "<div>\n",
       "<style scoped>\n",
       "    .dataframe tbody tr th:only-of-type {\n",
       "        vertical-align: middle;\n",
       "    }\n",
       "\n",
       "    .dataframe tbody tr th {\n",
       "        vertical-align: top;\n",
       "    }\n",
       "\n",
       "    .dataframe thead th {\n",
       "        text-align: right;\n",
       "    }\n",
       "</style>\n",
       "<table border=\"1\" class=\"dataframe\">\n",
       "  <thead>\n",
       "    <tr style=\"text-align: right;\">\n",
       "      <th></th>\n",
       "      <th>PassengerId</th>\n",
       "      <th>Pclass</th>\n",
       "      <th>Name</th>\n",
       "      <th>Age</th>\n",
       "      <th>SibSp</th>\n",
       "      <th>Parch</th>\n",
       "      <th>Ticket</th>\n",
       "      <th>Fare</th>\n",
       "      <th>male</th>\n",
       "      <th>Q</th>\n",
       "      <th>S</th>\n",
       "    </tr>\n",
       "  </thead>\n",
       "  <tbody>\n",
       "    <tr>\n",
       "      <th>0</th>\n",
       "      <td>892</td>\n",
       "      <td>3</td>\n",
       "      <td>Kelly, Mr. James</td>\n",
       "      <td>34.5</td>\n",
       "      <td>0</td>\n",
       "      <td>0</td>\n",
       "      <td>330911</td>\n",
       "      <td>7.8292</td>\n",
       "      <td>1</td>\n",
       "      <td>1</td>\n",
       "      <td>0</td>\n",
       "    </tr>\n",
       "    <tr>\n",
       "      <th>1</th>\n",
       "      <td>893</td>\n",
       "      <td>3</td>\n",
       "      <td>Wilkes, Mrs. James (Ellen Needs)</td>\n",
       "      <td>47.0</td>\n",
       "      <td>1</td>\n",
       "      <td>0</td>\n",
       "      <td>363272</td>\n",
       "      <td>7.0000</td>\n",
       "      <td>0</td>\n",
       "      <td>0</td>\n",
       "      <td>1</td>\n",
       "    </tr>\n",
       "    <tr>\n",
       "      <th>2</th>\n",
       "      <td>894</td>\n",
       "      <td>2</td>\n",
       "      <td>Myles, Mr. Thomas Francis</td>\n",
       "      <td>62.0</td>\n",
       "      <td>0</td>\n",
       "      <td>0</td>\n",
       "      <td>240276</td>\n",
       "      <td>9.6875</td>\n",
       "      <td>1</td>\n",
       "      <td>1</td>\n",
       "      <td>0</td>\n",
       "    </tr>\n",
       "    <tr>\n",
       "      <th>3</th>\n",
       "      <td>895</td>\n",
       "      <td>3</td>\n",
       "      <td>Wirz, Mr. Albert</td>\n",
       "      <td>27.0</td>\n",
       "      <td>0</td>\n",
       "      <td>0</td>\n",
       "      <td>315154</td>\n",
       "      <td>8.6625</td>\n",
       "      <td>1</td>\n",
       "      <td>0</td>\n",
       "      <td>1</td>\n",
       "    </tr>\n",
       "    <tr>\n",
       "      <th>4</th>\n",
       "      <td>896</td>\n",
       "      <td>3</td>\n",
       "      <td>Hirvonen, Mrs. Alexander (Helga E Lindqvist)</td>\n",
       "      <td>22.0</td>\n",
       "      <td>1</td>\n",
       "      <td>1</td>\n",
       "      <td>3101298</td>\n",
       "      <td>12.2875</td>\n",
       "      <td>0</td>\n",
       "      <td>0</td>\n",
       "      <td>1</td>\n",
       "    </tr>\n",
       "  </tbody>\n",
       "</table>\n",
       "</div>"
      ],
      "text/plain": [
       "   PassengerId  Pclass                                          Name   Age  \\\n",
       "0          892       3                              Kelly, Mr. James  34.5   \n",
       "1          893       3              Wilkes, Mrs. James (Ellen Needs)  47.0   \n",
       "2          894       2                     Myles, Mr. Thomas Francis  62.0   \n",
       "3          895       3                              Wirz, Mr. Albert  27.0   \n",
       "4          896       3  Hirvonen, Mrs. Alexander (Helga E Lindqvist)  22.0   \n",
       "\n",
       "   SibSp  Parch   Ticket     Fare  male  Q  S  \n",
       "0      0      0   330911   7.8292     1  1  0  \n",
       "1      1      0   363272   7.0000     0  0  1  \n",
       "2      0      0   240276   9.6875     1  1  0  \n",
       "3      0      0   315154   8.6625     1  0  1  \n",
       "4      1      1  3101298  12.2875     0  0  1  "
      ]
     },
     "execution_count": 158,
     "metadata": {},
     "output_type": "execute_result"
    }
   ],
   "source": [
    "tit_test_cnvrtd = convert_cat(titanic_test,['Sex','Embarked'])\n",
    "tit_test_cnvrtd.head()"
   ]
  },
  {
   "cell_type": "code",
   "execution_count": 159,
   "metadata": {
    "collapsed": true
   },
   "outputs": [],
   "source": [
    "[tit_train,tit_test] = shuffled_split_dfs(tit_train_cnvrtd)"
   ]
  },
  {
   "cell_type": "code",
   "execution_count": 160,
   "metadata": {},
   "outputs": [
    {
     "data": {
      "text/html": [
       "<div>\n",
       "<style scoped>\n",
       "    .dataframe tbody tr th:only-of-type {\n",
       "        vertical-align: middle;\n",
       "    }\n",
       "\n",
       "    .dataframe tbody tr th {\n",
       "        vertical-align: top;\n",
       "    }\n",
       "\n",
       "    .dataframe thead th {\n",
       "        text-align: right;\n",
       "    }\n",
       "</style>\n",
       "<table border=\"1\" class=\"dataframe\">\n",
       "  <thead>\n",
       "    <tr style=\"text-align: right;\">\n",
       "      <th></th>\n",
       "      <th>Pclass</th>\n",
       "      <th>Age</th>\n",
       "      <th>SibSp</th>\n",
       "      <th>Parch</th>\n",
       "      <th>Fare</th>\n",
       "      <th>male</th>\n",
       "      <th>Q</th>\n",
       "      <th>S</th>\n",
       "      <th>Survived</th>\n",
       "    </tr>\n",
       "  </thead>\n",
       "  <tbody>\n",
       "    <tr>\n",
       "      <th>0</th>\n",
       "      <td>1</td>\n",
       "      <td>30.00000</td>\n",
       "      <td>0</td>\n",
       "      <td>0</td>\n",
       "      <td>31.0000</td>\n",
       "      <td>0</td>\n",
       "      <td>0</td>\n",
       "      <td>0</td>\n",
       "      <td>1</td>\n",
       "    </tr>\n",
       "    <tr>\n",
       "      <th>1</th>\n",
       "      <td>2</td>\n",
       "      <td>33.00000</td>\n",
       "      <td>1</td>\n",
       "      <td>2</td>\n",
       "      <td>27.7500</td>\n",
       "      <td>0</td>\n",
       "      <td>0</td>\n",
       "      <td>1</td>\n",
       "      <td>1</td>\n",
       "    </tr>\n",
       "    <tr>\n",
       "      <th>2</th>\n",
       "      <td>1</td>\n",
       "      <td>42.00000</td>\n",
       "      <td>0</td>\n",
       "      <td>0</td>\n",
       "      <td>26.2875</td>\n",
       "      <td>1</td>\n",
       "      <td>0</td>\n",
       "      <td>1</td>\n",
       "      <td>1</td>\n",
       "    </tr>\n",
       "    <tr>\n",
       "      <th>3</th>\n",
       "      <td>3</td>\n",
       "      <td>20.00000</td>\n",
       "      <td>0</td>\n",
       "      <td>0</td>\n",
       "      <td>4.0125</td>\n",
       "      <td>1</td>\n",
       "      <td>0</td>\n",
       "      <td>0</td>\n",
       "      <td>0</td>\n",
       "    </tr>\n",
       "    <tr>\n",
       "      <th>4</th>\n",
       "      <td>3</td>\n",
       "      <td>25.14062</td>\n",
       "      <td>0</td>\n",
       "      <td>0</td>\n",
       "      <td>7.8958</td>\n",
       "      <td>1</td>\n",
       "      <td>0</td>\n",
       "      <td>1</td>\n",
       "      <td>0</td>\n",
       "    </tr>\n",
       "  </tbody>\n",
       "</table>\n",
       "</div>"
      ],
      "text/plain": [
       "   Pclass       Age  SibSp  Parch     Fare  male  Q  S  Survived\n",
       "0       1  30.00000      0      0  31.0000     0  0  0         1\n",
       "1       2  33.00000      1      2  27.7500     0  0  1         1\n",
       "2       1  42.00000      0      0  26.2875     1  0  1         1\n",
       "3       3  20.00000      0      0   4.0125     1  0  0         0\n",
       "4       3  25.14062      0      0   7.8958     1  0  1         0"
      ]
     },
     "execution_count": 160,
     "metadata": {},
     "output_type": "execute_result"
    }
   ],
   "source": [
    "tit_train.head()"
   ]
  },
  {
   "cell_type": "code",
   "execution_count": 161,
   "metadata": {
    "scrolled": true
   },
   "outputs": [
    {
     "data": {
      "text/html": [
       "<div>\n",
       "<style scoped>\n",
       "    .dataframe tbody tr th:only-of-type {\n",
       "        vertical-align: middle;\n",
       "    }\n",
       "\n",
       "    .dataframe tbody tr th {\n",
       "        vertical-align: top;\n",
       "    }\n",
       "\n",
       "    .dataframe thead th {\n",
       "        text-align: right;\n",
       "    }\n",
       "</style>\n",
       "<table border=\"1\" class=\"dataframe\">\n",
       "  <thead>\n",
       "    <tr style=\"text-align: right;\">\n",
       "      <th></th>\n",
       "      <th>Pclass</th>\n",
       "      <th>Age</th>\n",
       "      <th>SibSp</th>\n",
       "      <th>Parch</th>\n",
       "      <th>Fare</th>\n",
       "      <th>male</th>\n",
       "      <th>Q</th>\n",
       "      <th>S</th>\n",
       "      <th>Survived</th>\n",
       "    </tr>\n",
       "  </thead>\n",
       "  <tbody>\n",
       "    <tr>\n",
       "      <th>622</th>\n",
       "      <td>3</td>\n",
       "      <td>21.0</td>\n",
       "      <td>0</td>\n",
       "      <td>0</td>\n",
       "      <td>7.800</td>\n",
       "      <td>1</td>\n",
       "      <td>0</td>\n",
       "      <td>1</td>\n",
       "      <td>0</td>\n",
       "    </tr>\n",
       "    <tr>\n",
       "      <th>623</th>\n",
       "      <td>3</td>\n",
       "      <td>32.0</td>\n",
       "      <td>0</td>\n",
       "      <td>0</td>\n",
       "      <td>7.925</td>\n",
       "      <td>1</td>\n",
       "      <td>0</td>\n",
       "      <td>1</td>\n",
       "      <td>0</td>\n",
       "    </tr>\n",
       "    <tr>\n",
       "      <th>624</th>\n",
       "      <td>3</td>\n",
       "      <td>21.0</td>\n",
       "      <td>0</td>\n",
       "      <td>0</td>\n",
       "      <td>7.775</td>\n",
       "      <td>1</td>\n",
       "      <td>0</td>\n",
       "      <td>1</td>\n",
       "      <td>0</td>\n",
       "    </tr>\n",
       "    <tr>\n",
       "      <th>625</th>\n",
       "      <td>3</td>\n",
       "      <td>40.0</td>\n",
       "      <td>1</td>\n",
       "      <td>4</td>\n",
       "      <td>27.900</td>\n",
       "      <td>1</td>\n",
       "      <td>0</td>\n",
       "      <td>1</td>\n",
       "      <td>0</td>\n",
       "    </tr>\n",
       "    <tr>\n",
       "      <th>626</th>\n",
       "      <td>2</td>\n",
       "      <td>38.0</td>\n",
       "      <td>0</td>\n",
       "      <td>0</td>\n",
       "      <td>13.000</td>\n",
       "      <td>0</td>\n",
       "      <td>0</td>\n",
       "      <td>1</td>\n",
       "      <td>0</td>\n",
       "    </tr>\n",
       "  </tbody>\n",
       "</table>\n",
       "</div>"
      ],
      "text/plain": [
       "     Pclass   Age  SibSp  Parch    Fare  male  Q  S  Survived\n",
       "622       3  21.0      0      0   7.800     1  0  1         0\n",
       "623       3  32.0      0      0   7.925     1  0  1         0\n",
       "624       3  21.0      0      0   7.775     1  0  1         0\n",
       "625       3  40.0      1      4  27.900     1  0  1         0\n",
       "626       2  38.0      0      0  13.000     0  0  1         0"
      ]
     },
     "execution_count": 161,
     "metadata": {},
     "output_type": "execute_result"
    }
   ],
   "source": [
    "tit_test.head()"
   ]
  },
  {
   "cell_type": "code",
   "execution_count": 162,
   "metadata": {
    "collapsed": true
   },
   "outputs": [],
   "source": [
    "tit_train_norm = normalize(tit_train)\n",
    "tit_test_norm = normalize(tit_test)"
   ]
  },
  {
   "cell_type": "code",
   "execution_count": 163,
   "metadata": {},
   "outputs": [
    {
     "data": {
      "text/html": [
       "<div>\n",
       "<style scoped>\n",
       "    .dataframe tbody tr th:only-of-type {\n",
       "        vertical-align: middle;\n",
       "    }\n",
       "\n",
       "    .dataframe tbody tr th {\n",
       "        vertical-align: top;\n",
       "    }\n",
       "\n",
       "    .dataframe thead th {\n",
       "        text-align: right;\n",
       "    }\n",
       "</style>\n",
       "<table border=\"1\" class=\"dataframe\">\n",
       "  <thead>\n",
       "    <tr style=\"text-align: right;\">\n",
       "      <th></th>\n",
       "      <th>Pclass</th>\n",
       "      <th>Age</th>\n",
       "      <th>SibSp</th>\n",
       "      <th>Parch</th>\n",
       "      <th>Fare</th>\n",
       "      <th>male</th>\n",
       "      <th>Q</th>\n",
       "      <th>S</th>\n",
       "      <th>Survived</th>\n",
       "    </tr>\n",
       "  </thead>\n",
       "  <tbody>\n",
       "    <tr>\n",
       "      <th>0</th>\n",
       "      <td>0.0</td>\n",
       "      <td>0.371701</td>\n",
       "      <td>0.000</td>\n",
       "      <td>0.000000</td>\n",
       "      <td>0.060508</td>\n",
       "      <td>0.0</td>\n",
       "      <td>0.0</td>\n",
       "      <td>0.0</td>\n",
       "      <td>1.0</td>\n",
       "    </tr>\n",
       "    <tr>\n",
       "      <th>1</th>\n",
       "      <td>0.5</td>\n",
       "      <td>0.409399</td>\n",
       "      <td>0.125</td>\n",
       "      <td>0.333333</td>\n",
       "      <td>0.054164</td>\n",
       "      <td>0.0</td>\n",
       "      <td>0.0</td>\n",
       "      <td>1.0</td>\n",
       "      <td>1.0</td>\n",
       "    </tr>\n",
       "    <tr>\n",
       "      <th>2</th>\n",
       "      <td>0.0</td>\n",
       "      <td>0.522493</td>\n",
       "      <td>0.000</td>\n",
       "      <td>0.000000</td>\n",
       "      <td>0.051310</td>\n",
       "      <td>1.0</td>\n",
       "      <td>0.0</td>\n",
       "      <td>1.0</td>\n",
       "      <td>1.0</td>\n",
       "    </tr>\n",
       "    <tr>\n",
       "      <th>3</th>\n",
       "      <td>1.0</td>\n",
       "      <td>0.246042</td>\n",
       "      <td>0.000</td>\n",
       "      <td>0.000000</td>\n",
       "      <td>0.007832</td>\n",
       "      <td>1.0</td>\n",
       "      <td>0.0</td>\n",
       "      <td>0.0</td>\n",
       "      <td>0.0</td>\n",
       "    </tr>\n",
       "    <tr>\n",
       "      <th>4</th>\n",
       "      <td>1.0</td>\n",
       "      <td>0.310639</td>\n",
       "      <td>0.000</td>\n",
       "      <td>0.000000</td>\n",
       "      <td>0.015412</td>\n",
       "      <td>1.0</td>\n",
       "      <td>0.0</td>\n",
       "      <td>1.0</td>\n",
       "      <td>0.0</td>\n",
       "    </tr>\n",
       "  </tbody>\n",
       "</table>\n",
       "</div>"
      ],
      "text/plain": [
       "   Pclass       Age  SibSp     Parch      Fare  male    Q    S  Survived\n",
       "0     0.0  0.371701  0.000  0.000000  0.060508   0.0  0.0  0.0       1.0\n",
       "1     0.5  0.409399  0.125  0.333333  0.054164   0.0  0.0  1.0       1.0\n",
       "2     0.0  0.522493  0.000  0.000000  0.051310   1.0  0.0  1.0       1.0\n",
       "3     1.0  0.246042  0.000  0.000000  0.007832   1.0  0.0  0.0       0.0\n",
       "4     1.0  0.310639  0.000  0.000000  0.015412   1.0  0.0  1.0       0.0"
      ]
     },
     "execution_count": 163,
     "metadata": {},
     "output_type": "execute_result"
    }
   ],
   "source": [
    "tit_train_norm.head()"
   ]
  },
  {
   "cell_type": "code",
   "execution_count": 164,
   "metadata": {
    "collapsed": true
   },
   "outputs": [],
   "source": [
    "coeffs_list = stoch_grad_desc(tit_train_norm,output_col = 'Survived',alpha = 0.1, epoch = 150,algo='log')"
   ]
  },
  {
   "cell_type": "code",
   "execution_count": 165,
   "metadata": {},
   "outputs": [
    {
     "data": {
      "text/plain": [
       "[4.455458692742193,\n",
       " -2.6925503283033336,\n",
       " -3.579250111601648,\n",
       " -3.4683052327819657,\n",
       " -0.31169918859296575,\n",
       " 1.1578828218699968,\n",
       " -2.8185212183764157,\n",
       " 0.40999863232419004,\n",
       " -0.2509700991412977]"
      ]
     },
     "execution_count": 165,
     "metadata": {},
     "output_type": "execute_result"
    }
   ],
   "source": [
    "coeffs_list"
   ]
  },
  {
   "cell_type": "code",
   "execution_count": 166,
   "metadata": {
    "collapsed": true
   },
   "outputs": [],
   "source": [
    "tit_train_pred = make_predictions(tit_train_norm,coeff_list = coeffs_list,algo = 'log',output_col = 'Survived')"
   ]
  },
  {
   "cell_type": "code",
   "execution_count": 167,
   "metadata": {
    "collapsed": true
   },
   "outputs": [],
   "source": [
    "tit_test_pred = make_predictions(tit_test_norm,coeff_list = coeffs_list,algo = 'log',output_col = 'Survived')"
   ]
  },
  {
   "cell_type": "code",
   "execution_count": 168,
   "metadata": {},
   "outputs": [
    {
     "name": "stdout",
     "output_type": "stream",
     "text": [
      "[[332  44]\n",
      " [ 72 174]]\n",
      "              precision    recall  f1-score   support\n",
      "\n",
      "         0.0       0.82      0.88      0.85       376\n",
      "         1.0       0.80      0.71      0.75       246\n",
      "\n",
      "    accuracy                           0.81       622\n",
      "   macro avg       0.81      0.80      0.80       622\n",
      "weighted avg       0.81      0.81      0.81       622\n",
      "\n"
     ]
    },
    {
     "data": {
      "text/plain": [
       "0.8135048231511206"
      ]
     },
     "execution_count": 168,
     "metadata": {},
     "output_type": "execute_result"
    }
   ],
   "source": [
    "check_accuracy(tit_train_pred,algo = 'log')"
   ]
  },
  {
   "cell_type": "code",
   "execution_count": 169,
   "metadata": {},
   "outputs": [
    {
     "name": "stdout",
     "output_type": "stream",
     "text": [
      "[[153  20]\n",
      " [ 30  64]]\n",
      "              precision    recall  f1-score   support\n",
      "\n",
      "         0.0       0.84      0.88      0.86       173\n",
      "         1.0       0.76      0.68      0.72        94\n",
      "\n",
      "    accuracy                           0.81       267\n",
      "   macro avg       0.80      0.78      0.79       267\n",
      "weighted avg       0.81      0.81      0.81       267\n",
      "\n"
     ]
    },
    {
     "data": {
      "text/plain": [
       "0.8127340823970053"
      ]
     },
     "execution_count": 169,
     "metadata": {},
     "output_type": "execute_result"
    }
   ],
   "source": [
    "check_accuracy(tit_test_pred,algo = 'log')"
   ]
  }
 ],
 "metadata": {
  "kernelspec": {
   "display_name": "Python 3",
   "language": "python",
   "name": "python3"
  },
  "language_info": {
   "codemirror_mode": {
    "name": "ipython",
    "version": 3
   },
   "file_extension": ".py",
   "mimetype": "text/x-python",
   "name": "python",
   "nbconvert_exporter": "python",
   "pygments_lexer": "ipython3",
   "version": "3.6.6"
  }
 },
 "nbformat": 4,
 "nbformat_minor": 2
}
